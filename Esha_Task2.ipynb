{
  "nbformat": 4,
  "nbformat_minor": 0,
  "metadata": {
    "colab": {
      "provenance": [],
      "collapsed_sections": [],
      "authorship_tag": "ABX9TyO48U2ixryNYrsnZbfupf5M",
      "include_colab_link": true
    },
    "kernelspec": {
      "name": "python3",
      "display_name": "Python 3"
    },
    "language_info": {
      "name": "python"
    }
  },
  "cells": [
    {
      "cell_type": "markdown",
      "metadata": {
        "id": "view-in-github",
        "colab_type": "text"
      },
      "source": [
        "<a href=\"https://colab.research.google.com/github/Eshatelkar/CodeFamily/blob/main/Esha_Task2.ipynb\" target=\"_parent\"><img src=\"https://colab.research.google.com/assets/colab-badge.svg\" alt=\"Open In Colab\"/></a>"
      ]
    },
    {
      "cell_type": "markdown",
      "source": [
        "# **TASK-2**"
      ],
      "metadata": {
        "id": "P52ywBxAfrpu"
      }
    },
    {
      "cell_type": "markdown",
      "source": [
        "1) You have to given a String and you have to swap that String In Other words Convert all the lowercase letter into Uppercase letter vice versa\n"
      ],
      "metadata": {
        "id": "UMRrTHMRfyH3"
      }
    },
    {
      "cell_type": "code",
      "execution_count": null,
      "metadata": {
        "colab": {
          "base_uri": "https://localhost:8080/"
        },
        "id": "oDvwEpIjd1S8",
        "outputId": "5a242d0c-c1d0-4fec-d9df-6b0a167d164b"
      },
      "outputs": [
        {
          "output_type": "stream",
          "name": "stdout",
          "text": [
            "EsHa TeLkAr\n",
            "eShA tElKaR\n"
          ]
        }
      ],
      "source": [
        "def swap_case(s):\n",
        "    num = \"\"\n",
        "    for let in s:\n",
        "        if let.isupper() == True:\n",
        "            num+=(let.lower())\n",
        "        else:\n",
        "            num+=(let.upper())\n",
        "    return num\n",
        "if __name__ == '__main__':\n",
        "    s = input()\n",
        "    result = swap_case(s)\n",
        "    print(result)\n"
      ]
    },
    {
      "cell_type": "markdown",
      "source": [
        "2) You have to given s String and you have to capitalise first two character  of the string\n"
      ],
      "metadata": {
        "id": "NCSRLqsRf6eD"
      }
    },
    {
      "cell_type": "code",
      "source": [
        "def capitalize_first_last_letters(str1):\n",
        "     str1 = result = str1.title()\n",
        "     result =  \"\"\n",
        "     for word in str1.split():\n",
        "        result += word[:2].upper() + word[2::].lower() +\" \"\n",
        "        \n",
        "     return result[::1] \n",
        "     \n",
        "    \n",
        "print(capitalize_first_last_letters(\"esha telkar\"))"
      ],
      "metadata": {
        "colab": {
          "base_uri": "https://localhost:8080/"
        },
        "id": "lpd8b-AteG-G",
        "outputId": "419e71cc-79e2-4657-dd9a-141e84d27c06"
      },
      "execution_count": null,
      "outputs": [
        {
          "output_type": "stream",
          "name": "stdout",
          "text": [
            "ESha TElkar \n"
          ]
        }
      ]
    },
    {
      "cell_type": "markdown",
      "source": [
        "3) You have to given a information about N people.Each person has name .last name ,age,sex,city .Print their names in a specific format in descending order i.e the elder person name should be first printed,for two people of the same age print them in order of input."
      ],
      "metadata": {
        "id": "tDtyYqu-gDw5"
      }
    },
    {
      "cell_type": "code",
      "source": [
        "n = int(input())\n",
        "dict = {}\n",
        "for _ in range(n):\n",
        "    p1 = list(map(str,input().split()))\n",
        "    if int(p1[1]) not in dict:\n",
        "        dict[int(p1[1])] = [p1]\n",
        "    elif int(p1[1]) in dict:\n",
        "        dict[int(p1[1])].append(p1)\n",
        "    s = sorted(dict, reverse = True)\n",
        "print()\n",
        "for i in s:\n",
        "    if len(dict[i])<2:\n",
        "        print(\" \".join(dict[i][0]))\n",
        "    else:\n",
        "        for ele in dict[i]:\n",
        "            print(\" \".join(ele))"
      ],
      "metadata": {
        "colab": {
          "base_uri": "https://localhost:8080/"
        },
        "id": "iPGwGSXAelHE",
        "outputId": "e4760514-7bd5-47d0-a258-01bf25fe8407"
      },
      "execution_count": null,
      "outputs": [
        {
          "output_type": "stream",
          "name": "stdout",
          "text": [
            "2\n",
            "Esha 20 F Mumbai \n",
            "Shyam 40 M Assam\n",
            "\n",
            "Shyam 40 M Assam\n",
            "Esha 20 F Mumbai\n"
          ]
        }
      ]
    }
  ]
}